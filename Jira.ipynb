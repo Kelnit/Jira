{
  "cells": [
    {
      "cell_type": "code",
      "execution_count": null,
      "metadata": {
        "id": "vXCuJWQScv2-"
      },
      "outputs": [],
      "source": [
        "!pip install patool\n",
        "\n",
        "content = \"/content/drive/MyDrive/image.rar\""
      ]
    },
    {
      "cell_type": "code",
      "execution_count": null,
      "metadata": {
        "id": "2LnooU9gFNhU"
      },
      "outputs": [],
      "source": [
        "import tensorflow as tf\n",
        "\n",
        "import patoolib, os\n",
        "\n",
        "patoolib.extract_archive(content, outdir=\".\")"
      ]
    },
    {
      "cell_type": "code",
      "execution_count": null,
      "metadata": {
        "id": "HU3ZS9bXY8bV"
      },
      "outputs": [],
      "source": [
        "import tensorflow.keras.utils as utils\n",
        "\n",
        "import tensorflow.keras.applications as applications\n",
        "\n",
        "import patoolib, os, warnings\n",
        "\n",
        "warnings.filterwarnings(\"ignore\")"
      ]
    },
    {
      "cell_type": "code",
      "execution_count": null,
      "metadata": {
        "colab": {
          "base_uri": "https://localhost:8080/"
        },
        "id": "1aC2ElqobPHN",
        "outputId": "52cedc81-08be-4f2b-98fa-73372f42ae08"
      },
      "outputs": [
        {
          "data": {
            "text/plain": [
              "['pria', 'perempuan']"
            ]
          },
          "execution_count": 5,
          "metadata": {},
          "output_type": "execute_result"
        }
      ],
      "source": [
        "rooter = \"/content/image\"\n",
        "\n",
        "classes = os.listdir(rooter)\n",
        "\n",
        "classes"
      ]
    },
    {
      "cell_type": "code",
      "execution_count": null,
      "metadata": {
        "colab": {
          "base_uri": "https://localhost:8080/"
        },
        "id": "BbztKYHCdqvq",
        "outputId": "08fb4eb4-838b-4e99-f6e1-edc4de3f5a77"
      },
      "outputs": [
        {
          "data": {
            "text/plain": [
              "878"
            ]
          },
          "execution_count": 6,
          "metadata": {},
          "output_type": "execute_result"
        }
      ],
      "source": [
        "i = len(os.listdir(os.path.join(rooter, \"pria\")))\n",
        "\n",
        "j = len(os.listdir(os.path.join(rooter, \"perempuan\")))\n",
        "\n",
        "total = i + j\n",
        "\n",
        "total"
      ]
    },
    {
      "cell_type": "code",
      "execution_count": null,
      "metadata": {
        "id": "ku1I9Xy0I6Zg"
      },
      "outputs": [],
      "source": [
        "subset = \"both\"; label = \"binary\"\n",
        "\n",
        "image = (160, 160); split = 0.15; random = 18\n",
        "\n",
        "orifile = utils.image_dataset_from_directory(\n",
        "  rooter,\n",
        "  seed = random,\n",
        "  subset = subset,\n",
        "  image_size = image,\n",
        "  label_mode = label,\n",
        "  batch_size = random,\n",
        "  validation_split = split\n",
        ")\n",
        "\n",
        "train, testi = orifile"
      ]
    },
    {
      "cell_type": "code",
      "execution_count": null,
      "metadata": {
        "id": "9vMG1HeSHvNz"
      },
      "outputs": [],
      "source": [
        "input_shape = (160, 160, 3)\n",
        "\n",
        "ontrue = !False\n",
        "\n",
        "intnet = applications.EfficientNetB5(\n",
        "  weights=\"imagenet\",\n",
        "  include_top=False,\n",
        "  input_shape=input_shape\n",
        ")\n",
        "\n",
        "for layer in intnet.layers[15:] : layer.trainable = ontrue"
      ]
    },
    {
      "cell_type": "code",
      "execution_count": null,
      "metadata": {
        "id": "dCoWWeAJeiXQ"
      },
      "outputs": [],
      "source": [
        "from tensorflow.keras.callbacks import Callback\n",
        "\n",
        "class Matrit(Callback):\n",
        "  def on_epoch_end(self, epoch, logs=None):\n",
        "    if logs.get(\"accuracy\") >= 0.93 and logs.get(\"val_accuracy\") >= 0.93:\n",
        "      self.model.stop_training = True\n",
        "\n",
        "callbacks = Matrit()"
      ]
    },
    {
      "cell_type": "code",
      "execution_count": null,
      "metadata": {
        "id": "A1AXGjjkLQsY"
      },
      "outputs": [],
      "source": [
        "from tensorflow.keras.models import Model, Sequential\n",
        "\n",
        "from tensorflow.keras.layers import RandomFlip, RandomRotation\n",
        "\n",
        "from tensorflow.keras.layers import RandomZoom, RandomContrast, RandomTranslation\n",
        "\n",
        "intput = Sequential([\n",
        "  RandomFlip(\"horizontal_and_vertical\", input_shape=input_shape),\n",
        "  RandomRotation(0.2),\n",
        "  RandomZoom(0.2),\n",
        "  RandomContrast(0.2),\n",
        "  RandomTranslation(height_factor=0.2, width_factor=0.2)\n",
        "])"
      ]
    },
    {
      "cell_type": "code",
      "execution_count": null,
      "metadata": {
        "id": "MNyhXYOEfDYJ"
      },
      "outputs": [],
      "source": [
        "from tensorflow.keras.layers import GlobalAveragePooling2D, Dense\n",
        "\n",
        "model = tf.keras.models.Sequential([\n",
        "  intput,\n",
        "  intnet,\n",
        "  tf.keras.layers.GlobalAveragePooling2D(),\n",
        "  tf.keras.layers.Dense(1, activation=\"sigmoid\")\n",
        "])"
      ]
    },
    {
      "cell_type": "code",
      "execution_count": null,
      "metadata": {
        "id": "lHMnT6b9MyQo"
      },
      "outputs": [],
      "source": [
        "model.compile(optimizer=\"adam\", loss=\"binary_crossentropy\", metrics=[\"accuracy\"])"
      ]
    },
    {
      "cell_type": "code",
      "execution_count": null,
      "metadata": {
        "id": "ze-xUZUOMwzn"
      },
      "outputs": [],
      "source": [
        "plot = model.fit(train, validation_data=testi, epochs=10, callbacks=[callbacks])"
      ]
    },
    {
      "cell_type": "code",
      "execution_count": null,
      "metadata": {
        "colab": {
          "base_uri": "https://localhost:8080/"
        },
        "id": "8RSI_2rVf2r1",
        "outputId": "77f6e473-63f6-43f2-9ddc-9f858af12254"
      },
      "outputs": [
        {
          "data": {
            "text/plain": [
              "[0.08931760489940643, 0.9772422909736633]"
            ]
          },
          "execution_count": 14,
          "metadata": {},
          "output_type": "execute_result"
        }
      ],
      "source": [
        "model.evaluate(train)"
      ]
    },
    {
      "cell_type": "code",
      "execution_count": null,
      "metadata": {
        "colab": {
          "base_uri": "https://localhost:8080/"
        },
        "id": "ChCIMnbvf33U",
        "outputId": "3801c7d4-dba3-465d-e6ab-89a71edc3f3e"
      },
      "outputs": [
        {
          "data": {
            "text/plain": [
              "[0.1832124888896942, 0.9312977194786072]"
            ]
          },
          "execution_count": 15,
          "metadata": {},
          "output_type": "execute_result"
        }
      ],
      "source": [
        "model.evaluate(testi)"
      ]
    },
    {
      "cell_type": "code",
      "execution_count": null,
      "metadata": {
        "colab": {
          "base_uri": "https://localhost:8080/",
          "height": 528
        },
        "id": "eV8jkSdNOSUN",
        "outputId": "e73bb8ad-ab02-4910-e4b3-3a154be8ca88"
      },
      "outputs": [
        {
          "data": {
            "image/png": "[encoded data removed]",
            "text/plain": [
              "<Figure size 1000x500 with 2 Axes>"
            ]
          },
          "metadata": {},
          "output_type": "display_data"
        }
      ],
      "source": [
        "plot = Helplot(plot, \"accuracy\")\n",
        "\n",
        "plot.trainplot"
      ]
    },
    {
      "cell_type": "code",
      "execution_count": null,
      "metadata": {
        "colab": {
          "base_uri": "https://localhost:8080/",
          "height": 528
        },
        "id": "ajGFy2SIO0yC",
        "outputId": "ab31e87e-fc71-4fd1-b0e7-5e3b09a9e8cb"
      },
      "outputs": [
        {
          "data": {
            "image/png": "[encoded data removed]",
            "text/plain": [
              "<Figure size 1000x500 with 2 Axes>"
            ]
          },
          "metadata": {},
          "output_type": "display_data"
        }
      ],
      "source": [
        "plot.testiplot"
      ]
    },
    {
      "cell_type": "code",
      "execution_count": null,
      "metadata": {
        "colab": {
          "base_uri": "https://localhost:8080/",
          "height": 36
        },
        "id": "PW5lOn0fO4P9",
        "outputId": "806a0b08-57dd-4113-90bc-e5368cb276bd"
      },
      "outputs": [
        {
          "data": {
            "application/vnd.google.colaboratory.intrinsic+json": {
              "type": "string"
            },
            "text/plain": [
              "'Female'"
            ]
          },
          "execution_count": 18,
          "metadata": {},
          "output_type": "execute_result"
        }
      ],
      "source": [
        "import numpy\n",
        "\n",
        "t = \"/content/image/perempuan/perempuan (280).jpg\"\n",
        "\n",
        "def output(t, input_shape=(160, 160, 3)):\n",
        "  i = utils.load_img(t, target_size=input_shape)\n",
        "  i = utils.img_to_array(i)\n",
        "  i = tf.expand_dims(i, axis=0)\n",
        "  j = model.predict(i, verbose=0)\n",
        "  result = \"Male\" if numpy.round(j) == 1 else \"Female\"\n",
        "  return result\n",
        "\n",
        "output(t)"
      ]
    },
    {
      "cell_type": "code",
      "execution_count": null,
      "metadata": {
        "colab": {
          "base_uri": "https://localhost:8080/",
          "height": 36
        },
        "id": "VQRuPiuQQajh",
        "outputId": "7dc9b93a-7bcc-46ec-aca8-7aefbbf712b2"
      },
      "outputs": [
        {
          "data": {
            "application/vnd.google.colaboratory.intrinsic+json": {
              "type": "string"
            },
            "text/plain": [
              "'Male'"
            ]
          },
          "execution_count": 19,
          "metadata": {},
          "output_type": "execute_result"
        }
      ],
      "source": [
        "t = \"/content/image/pria/pria (105).jpg\"\n",
        "\n",
        "output(t)"
      ]
    },
    {
      "cell_type": "code",
      "execution_count": null,
      "metadata": {
        "colab": {
          "base_uri": "https://localhost:8080/",
          "height": 36
        },
        "id": "YRdbhngxTs13",
        "outputId": "dcd8bd3b-9b1f-454e-e112-83690510b4f7"
      },
      "outputs": [
        {
          "data": {
            "application/vnd.google.colaboratory.intrinsic+json": {
              "type": "string"
            },
            "text/plain": [
              "'Male'"
            ]
          },
          "execution_count": 20,
          "metadata": {},
          "output_type": "execute_result"
        }
      ],
      "source": [
        "t = \"/content/image/pria/pria (114).jpg\"\n",
        "\n",
        "output(t)"
      ]
    },
    {
      "cell_type": "code",
      "execution_count": null,
      "metadata": {
        "colab": {
          "base_uri": "https://localhost:8080/",
          "height": 36
        },
        "id": "IIAJ52ywT05C",
        "outputId": "0c316da3-9f8d-4350-fdd8-4e917344cd8e"
      },
      "outputs": [
        {
          "data": {
            "application/vnd.google.colaboratory.intrinsic+json": {
              "type": "string"
            },
            "text/plain": [
              "'Male'"
            ]
          },
          "execution_count": 21,
          "metadata": {},
          "output_type": "execute_result"
        }
      ],
      "source": [
        "t = \"/content/image/pria/pria (126).jpg\"\n",
        "\n",
        "output(t)"
      ]
    },
    {
      "cell_type": "code",
      "execution_count": null,
      "metadata": {
        "colab": {
          "base_uri": "https://localhost:8080/",
          "height": 36
        },
        "id": "bzbHtP6OT9yp",
        "outputId": "06d14520-b2e3-48fb-ec5b-c09eb2c18333"
      },
      "outputs": [
        {
          "data": {
            "application/vnd.google.colaboratory.intrinsic+json": {
              "type": "string"
            },
            "text/plain": [
              "'Female'"
            ]
          },
          "execution_count": 22,
          "metadata": {},
          "output_type": "execute_result"
        }
      ],
      "source": [
        "t = \"/content/image/perempuan/perempuan (132).jpg\"\n",
        "\n",
        "output(t)"
      ]
    },
    {
      "cell_type": "code",
      "execution_count": null,
      "metadata": {
        "colab": {
          "base_uri": "https://localhost:8080/",
          "height": 36
        },
        "id": "j3peXNRnUDhN",
        "outputId": "4eb615e0-894c-46ea-c542-80f1502bc2df"
      },
      "outputs": [
        {
          "data": {
            "application/vnd.google.colaboratory.intrinsic+json": {
              "type": "string"
            },
            "text/plain": [
              "'Female'"
            ]
          },
          "execution_count": 23,
          "metadata": {},
          "output_type": "execute_result"
        }
      ],
      "source": [
        "t = \"/content/image/perempuan/perempuan (138).jpg\"\n",
        "\n",
        "output(t)"
      ]
    }
  ],
  "metadata": {
    "accelerator": "GPU",
    "colab": {
      "gpuType": "T4",
      "provenance": []
    },
    "kernelspec": {
      "display_name": "Python 3",
      "name": "python3"
    },
    "language_info": {
      "name": "python"
    }
  },
  "nbformat": 4,
  "nbformat_minor": 0
}